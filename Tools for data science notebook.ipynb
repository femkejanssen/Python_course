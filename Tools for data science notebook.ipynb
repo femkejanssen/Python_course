{
 "cells": [
  {
   "cell_type": "markdown",
   "metadata": {
    "collapsed": true
   },
   "source": [
    "# My Jupyter Notebook on IBM Watson Studio "
   ]
  },
  {
   "cell_type": "markdown",
   "metadata": {},
   "source": [
    "**Femke Janssen**\n",
    "\n",
    "Student Biomedical Sciences"
   ]
  },
  {
   "cell_type": "markdown",
   "metadata": {},
   "source": [
    "*I am interested in data science, since this recently crossed my path in my studies. First I was kinda afraid of data analysis and programming, but the more I dived into this, the more I started to like it and see the opportunities it brings. I have always liked math at high school and puzzling with numbers as well. I found out that I also really like coding and working in R and Rstudio. Hence, I would like to learn more programming languages. I think it is a wonderful field of expertise with lots and lots of possibilities and I would love to learn more about this.* "
   ]
  },
  {
   "cell_type": "markdown",
   "metadata": {},
   "source": [
    "### My code below is shows Pythagoras "
   ]
  },
  {
   "cell_type": "code",
   "execution_count": 7,
   "metadata": {},
   "outputs": [
    {
     "name": "stdout",
     "output_type": "stream",
     "text": [
      "52\n"
     ]
    }
   ],
   "source": [
    "x = 4\n",
    "y = 6\n",
    "c = (y*y) + (x*x)\n",
    "print(c)"
   ]
  },
  {
   "cell_type": "markdown",
   "metadata": {},
   "source": [
    "Horizontal rules:\n",
    "\n",
    "---\n",
    "\n",
    "***\n",
    "\n",
    "___\n",
    "\n",
    "\n",
    "This | is | a  | table\n",
    "--- | --- | --- | --- \n",
    "x | x | x | x\n",
    "x | x | x | x \n",
    "\n",
    "\n",
    "And this is a bulleted list:\n",
    "\n",
    "* x\n",
    "* x\n",
    "* x\n",
    "* x\n",
    "* x"
   ]
  }
 ],
 "metadata": {
  "kernelspec": {
   "display_name": "Python 3",
   "language": "python",
   "name": "python3"
  },
  "language_info": {
   "codemirror_mode": {
    "name": "ipython",
    "version": 3
   },
   "file_extension": ".py",
   "mimetype": "text/x-python",
   "name": "python",
   "nbconvert_exporter": "python",
   "pygments_lexer": "ipython3",
   "version": "3.8.3"
  }
 },
 "nbformat": 4,
 "nbformat_minor": 1
}
